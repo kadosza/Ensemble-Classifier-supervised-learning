{
 "cells": [
  {
   "cell_type": "code",
   "execution_count": 1,
   "metadata": {},
   "outputs": [],
   "source": [
    "# importing libraries\n",
    "import numpy as np\n",
    "import pandas as pd\n",
    "\n",
    "from sklearn.datasets import make_classification\n",
    "from sklearn.model_selection import train_test_split\n",
    "from sklearn.metrics import accuracy_score\n",
    "\n",
    "from sklearn.tree import DecisionTreeClassifier\n",
    "from sklearn.ensemble import BaggingClassifier\n",
    "from sklearn.ensemble import RandomForestClassifier\n",
    "from sklearn.ensemble import AdaBoostClassifier\n"
   ]
  },
  {
   "cell_type": "code",
   "execution_count": 2,
   "metadata": {},
   "outputs": [
    {
     "data": {
      "text/html": [
       "<div>\n",
       "<style scoped>\n",
       "    .dataframe tbody tr th:only-of-type {\n",
       "        vertical-align: middle;\n",
       "    }\n",
       "\n",
       "    .dataframe tbody tr th {\n",
       "        vertical-align: top;\n",
       "    }\n",
       "\n",
       "    .dataframe thead th {\n",
       "        text-align: right;\n",
       "    }\n",
       "</style>\n",
       "<table border=\"1\" class=\"dataframe\">\n",
       "  <thead>\n",
       "    <tr style=\"text-align: right;\">\n",
       "      <th></th>\n",
       "      <th>PassengerId</th>\n",
       "      <th>Survived</th>\n",
       "      <th>Pclass</th>\n",
       "      <th>Name</th>\n",
       "      <th>Sex</th>\n",
       "      <th>Age</th>\n",
       "      <th>SibSp</th>\n",
       "      <th>Parch</th>\n",
       "      <th>Ticket</th>\n",
       "      <th>Fare</th>\n",
       "      <th>Cabin</th>\n",
       "      <th>Embarked</th>\n",
       "    </tr>\n",
       "  </thead>\n",
       "  <tbody>\n",
       "    <tr>\n",
       "      <th>0</th>\n",
       "      <td>1</td>\n",
       "      <td>0</td>\n",
       "      <td>3</td>\n",
       "      <td>Braund, Mr. Owen Harris</td>\n",
       "      <td>male</td>\n",
       "      <td>22.0</td>\n",
       "      <td>1</td>\n",
       "      <td>0</td>\n",
       "      <td>A/5 21171</td>\n",
       "      <td>7.2500</td>\n",
       "      <td>NaN</td>\n",
       "      <td>S</td>\n",
       "    </tr>\n",
       "    <tr>\n",
       "      <th>1</th>\n",
       "      <td>2</td>\n",
       "      <td>1</td>\n",
       "      <td>1</td>\n",
       "      <td>Cumings, Mrs. John Bradley (Florence Briggs Th...</td>\n",
       "      <td>female</td>\n",
       "      <td>38.0</td>\n",
       "      <td>1</td>\n",
       "      <td>0</td>\n",
       "      <td>PC 17599</td>\n",
       "      <td>71.2833</td>\n",
       "      <td>C85</td>\n",
       "      <td>C</td>\n",
       "    </tr>\n",
       "    <tr>\n",
       "      <th>2</th>\n",
       "      <td>3</td>\n",
       "      <td>1</td>\n",
       "      <td>3</td>\n",
       "      <td>Heikkinen, Miss. Laina</td>\n",
       "      <td>female</td>\n",
       "      <td>26.0</td>\n",
       "      <td>0</td>\n",
       "      <td>0</td>\n",
       "      <td>STON/O2. 3101282</td>\n",
       "      <td>7.9250</td>\n",
       "      <td>NaN</td>\n",
       "      <td>S</td>\n",
       "    </tr>\n",
       "    <tr>\n",
       "      <th>3</th>\n",
       "      <td>4</td>\n",
       "      <td>1</td>\n",
       "      <td>1</td>\n",
       "      <td>Futrelle, Mrs. Jacques Heath (Lily May Peel)</td>\n",
       "      <td>female</td>\n",
       "      <td>35.0</td>\n",
       "      <td>1</td>\n",
       "      <td>0</td>\n",
       "      <td>113803</td>\n",
       "      <td>53.1000</td>\n",
       "      <td>C123</td>\n",
       "      <td>S</td>\n",
       "    </tr>\n",
       "    <tr>\n",
       "      <th>4</th>\n",
       "      <td>5</td>\n",
       "      <td>0</td>\n",
       "      <td>3</td>\n",
       "      <td>Allen, Mr. William Henry</td>\n",
       "      <td>male</td>\n",
       "      <td>35.0</td>\n",
       "      <td>0</td>\n",
       "      <td>0</td>\n",
       "      <td>373450</td>\n",
       "      <td>8.0500</td>\n",
       "      <td>NaN</td>\n",
       "      <td>S</td>\n",
       "    </tr>\n",
       "  </tbody>\n",
       "</table>\n",
       "</div>"
      ],
      "text/plain": [
       "   PassengerId  Survived  Pclass  \\\n",
       "0            1         0       3   \n",
       "1            2         1       1   \n",
       "2            3         1       3   \n",
       "3            4         1       1   \n",
       "4            5         0       3   \n",
       "\n",
       "                                                Name     Sex   Age  SibSp  \\\n",
       "0                            Braund, Mr. Owen Harris    male  22.0      1   \n",
       "1  Cumings, Mrs. John Bradley (Florence Briggs Th...  female  38.0      1   \n",
       "2                             Heikkinen, Miss. Laina  female  26.0      0   \n",
       "3       Futrelle, Mrs. Jacques Heath (Lily May Peel)  female  35.0      1   \n",
       "4                           Allen, Mr. William Henry    male  35.0      0   \n",
       "\n",
       "   Parch            Ticket     Fare Cabin Embarked  \n",
       "0      0         A/5 21171   7.2500   NaN        S  \n",
       "1      0          PC 17599  71.2833   C85        C  \n",
       "2      0  STON/O2. 3101282   7.9250   NaN        S  \n",
       "3      0            113803  53.1000  C123        S  \n",
       "4      0            373450   8.0500   NaN        S  "
      ]
     },
     "execution_count": 2,
     "metadata": {},
     "output_type": "execute_result"
    }
   ],
   "source": [
    "# Reading titanic csv:\n",
    "data = pd.read_csv(\"titanic.csv\")\n",
    "data.head()"
   ]
  },
  {
   "cell_type": "code",
   "execution_count": 3,
   "metadata": {},
   "outputs": [],
   "source": [
    "# I performed data imputing and column conversion similar to the previous tasks. \n",
    "# For the sake of this excersice I decided not to delete rows with missing data but to get the missing values in the Age and Embarked columns by\n",
    "# using simple imputer and strategy 'mean' and 'most_frequent' respectively. \n",
    "from sklearn.impute import SimpleImputer \n",
    "impute = SimpleImputer(missing_values=np.nan,strategy=\"mean\")\n",
    "data[[\"Age\"]] = impute.fit_transform(data[[\"Age\"]])\n",
    "impute = SimpleImputer(missing_values=np.nan,strategy=\"most_frequent\")\n",
    "data[[\"Embarked\"]] = impute.fit_transform(data[[\"Embarked\"]])"
   ]
  },
  {
   "cell_type": "code",
   "execution_count": 4,
   "metadata": {},
   "outputs": [],
   "source": [
    "# Creating a new column 'Sex_num' and changing 'male' to 0 and 'female' to 1, so that we have numerical values for assigning data:\n",
    "data['Sex_num'] = data[\"Sex\"].replace(\"male\", 0).replace(\"female\", 1)"
   ]
  },
  {
   "cell_type": "code",
   "execution_count": 5,
   "metadata": {},
   "outputs": [],
   "source": [
    "# Creating a new column 'Embarked_num' and changing 'S' as 0, 'C' to 1 and 'Q' to 2, so that we have numerical values for assigning data: \n",
    "data['Embarked_num'] = data[\"Embarked\"].replace(\"S\", 0).replace(\"C\", 1).replace(\"Q\", 2)"
   ]
  },
  {
   "cell_type": "code",
   "execution_count": 6,
   "metadata": {},
   "outputs": [
    {
     "data": {
      "text/html": [
       "<div>\n",
       "<style scoped>\n",
       "    .dataframe tbody tr th:only-of-type {\n",
       "        vertical-align: middle;\n",
       "    }\n",
       "\n",
       "    .dataframe tbody tr th {\n",
       "        vertical-align: top;\n",
       "    }\n",
       "\n",
       "    .dataframe thead th {\n",
       "        text-align: right;\n",
       "    }\n",
       "</style>\n",
       "<table border=\"1\" class=\"dataframe\">\n",
       "  <thead>\n",
       "    <tr style=\"text-align: right;\">\n",
       "      <th></th>\n",
       "      <th>PassengerId</th>\n",
       "      <th>Survived</th>\n",
       "      <th>Pclass</th>\n",
       "      <th>Name</th>\n",
       "      <th>Sex</th>\n",
       "      <th>Age</th>\n",
       "      <th>SibSp</th>\n",
       "      <th>Parch</th>\n",
       "      <th>Ticket</th>\n",
       "      <th>Fare</th>\n",
       "      <th>Cabin</th>\n",
       "      <th>Embarked</th>\n",
       "      <th>Sex_num</th>\n",
       "      <th>Embarked_num</th>\n",
       "    </tr>\n",
       "  </thead>\n",
       "  <tbody>\n",
       "    <tr>\n",
       "      <th>0</th>\n",
       "      <td>1</td>\n",
       "      <td>0</td>\n",
       "      <td>3</td>\n",
       "      <td>Braund, Mr. Owen Harris</td>\n",
       "      <td>male</td>\n",
       "      <td>22.0</td>\n",
       "      <td>1</td>\n",
       "      <td>0</td>\n",
       "      <td>A/5 21171</td>\n",
       "      <td>7.2500</td>\n",
       "      <td>NaN</td>\n",
       "      <td>S</td>\n",
       "      <td>0</td>\n",
       "      <td>0</td>\n",
       "    </tr>\n",
       "    <tr>\n",
       "      <th>1</th>\n",
       "      <td>2</td>\n",
       "      <td>1</td>\n",
       "      <td>1</td>\n",
       "      <td>Cumings, Mrs. John Bradley (Florence Briggs Th...</td>\n",
       "      <td>female</td>\n",
       "      <td>38.0</td>\n",
       "      <td>1</td>\n",
       "      <td>0</td>\n",
       "      <td>PC 17599</td>\n",
       "      <td>71.2833</td>\n",
       "      <td>C85</td>\n",
       "      <td>C</td>\n",
       "      <td>1</td>\n",
       "      <td>1</td>\n",
       "    </tr>\n",
       "    <tr>\n",
       "      <th>2</th>\n",
       "      <td>3</td>\n",
       "      <td>1</td>\n",
       "      <td>3</td>\n",
       "      <td>Heikkinen, Miss. Laina</td>\n",
       "      <td>female</td>\n",
       "      <td>26.0</td>\n",
       "      <td>0</td>\n",
       "      <td>0</td>\n",
       "      <td>STON/O2. 3101282</td>\n",
       "      <td>7.9250</td>\n",
       "      <td>NaN</td>\n",
       "      <td>S</td>\n",
       "      <td>1</td>\n",
       "      <td>0</td>\n",
       "    </tr>\n",
       "    <tr>\n",
       "      <th>3</th>\n",
       "      <td>4</td>\n",
       "      <td>1</td>\n",
       "      <td>1</td>\n",
       "      <td>Futrelle, Mrs. Jacques Heath (Lily May Peel)</td>\n",
       "      <td>female</td>\n",
       "      <td>35.0</td>\n",
       "      <td>1</td>\n",
       "      <td>0</td>\n",
       "      <td>113803</td>\n",
       "      <td>53.1000</td>\n",
       "      <td>C123</td>\n",
       "      <td>S</td>\n",
       "      <td>1</td>\n",
       "      <td>0</td>\n",
       "    </tr>\n",
       "    <tr>\n",
       "      <th>4</th>\n",
       "      <td>5</td>\n",
       "      <td>0</td>\n",
       "      <td>3</td>\n",
       "      <td>Allen, Mr. William Henry</td>\n",
       "      <td>male</td>\n",
       "      <td>35.0</td>\n",
       "      <td>0</td>\n",
       "      <td>0</td>\n",
       "      <td>373450</td>\n",
       "      <td>8.0500</td>\n",
       "      <td>NaN</td>\n",
       "      <td>S</td>\n",
       "      <td>0</td>\n",
       "      <td>0</td>\n",
       "    </tr>\n",
       "  </tbody>\n",
       "</table>\n",
       "</div>"
      ],
      "text/plain": [
       "   PassengerId  Survived  Pclass  \\\n",
       "0            1         0       3   \n",
       "1            2         1       1   \n",
       "2            3         1       3   \n",
       "3            4         1       1   \n",
       "4            5         0       3   \n",
       "\n",
       "                                                Name     Sex   Age  SibSp  \\\n",
       "0                            Braund, Mr. Owen Harris    male  22.0      1   \n",
       "1  Cumings, Mrs. John Bradley (Florence Briggs Th...  female  38.0      1   \n",
       "2                             Heikkinen, Miss. Laina  female  26.0      0   \n",
       "3       Futrelle, Mrs. Jacques Heath (Lily May Peel)  female  35.0      1   \n",
       "4                           Allen, Mr. William Henry    male  35.0      0   \n",
       "\n",
       "   Parch            Ticket     Fare Cabin Embarked  Sex_num  Embarked_num  \n",
       "0      0         A/5 21171   7.2500   NaN        S        0             0  \n",
       "1      0          PC 17599  71.2833   C85        C        1             1  \n",
       "2      0  STON/O2. 3101282   7.9250   NaN        S        1             0  \n",
       "3      0            113803  53.1000  C123        S        1             0  \n",
       "4      0            373450   8.0500   NaN        S        0             0  "
      ]
     },
     "execution_count": 6,
     "metadata": {},
     "output_type": "execute_result"
    }
   ],
   "source": [
    "# Confirming the new number of columns:\n",
    "data.head()"
   ]
  },
  {
   "cell_type": "code",
   "execution_count": 7,
   "metadata": {},
   "outputs": [],
   "source": [
    "# Assigning data: Pclass, sex. age, SibSp, Parch, Fare and Embarked will be assigned to x:\n",
    "# I decided to include Embarked in my x, because in the previous task (T33) I learnt that the higher survival was noted for people embarking in Cherbourg, compared with Queenstown and then Southampton:\n",
    "x = data.iloc[:,[2,5,6,7,9,12,13]].values\n",
    "# Survived outcome will be our y:\n",
    "y = data.iloc[:,1].values\n",
    "# Reshaping x data for sklearn:\n",
    "x = x.reshape(-1,7)"
   ]
  },
  {
   "cell_type": "code",
   "execution_count": 8,
   "metadata": {},
   "outputs": [],
   "source": [
    "# Splitting data into train and test 70% - 30%:\n",
    "x_train, x_test, y_train, y_test = train_test_split(x, y, test_size = 0.3, random_state=7)"
   ]
  },
  {
   "cell_type": "code",
   "execution_count": 9,
   "metadata": {},
   "outputs": [
    {
     "name": "stdout",
     "output_type": "stream",
     "text": [
      "Training data: (623, 7) (623,)\n",
      "Test data: (268, 7) (268,)\n"
     ]
    }
   ],
   "source": [
    "# Confirming the split and checking the data shapes:\n",
    "print (\"Training data:\",x_train.shape, y_train.shape)\n",
    "print (\"Test data:\",x_test.shape, y_test.shape)"
   ]
  },
  {
   "cell_type": "code",
   "execution_count": 10,
   "metadata": {},
   "outputs": [
    {
     "name": "stdout",
     "output_type": "stream",
     "text": [
      "Accuracy of base: 0.772\n",
      "Accuracy of ensemble bagged: 0.772\n",
      "Accuracy of ensemble forest: 0.787\n",
      "Accuracy of ensemble boosted: 0.754\n"
     ]
    }
   ],
   "source": [
    "# Create base model with the max_depth = 5 (optimised in the previous task) and the three new models: Bagged, Random Forest and Boosted:\n",
    "base = DecisionTreeClassifier(max_depth=5, random_state=7)\n",
    "ensemble_bagging = BaggingClassifier(base_estimator=base, n_estimators=100, random_state=7)\n",
    "ensemble_forest = RandomForestClassifier(max_depth = 5, n_estimators=100, random_state=7)\n",
    "ensemble_boost = AdaBoostClassifier(base_estimator=base, n_estimators=100, random_state=7)\n",
    "\n",
    "# Fitting the model:\n",
    "base.fit(x_train, y_train)\n",
    "ensemble_bagging.fit(x_train, y_train)\n",
    "ensemble_forest.fit(x_train, y_train)\n",
    "ensemble_boost.fit(x_train, y_train)\n",
    "\n",
    "# Calculating accuracy scores for different models:\n",
    "print(\"Accuracy of base:\", round(base.score(x_test, y_test),3))\n",
    "print(\"Accuracy of ensemble bagged:\",round(ensemble_bagging.score(x_test, y_test),3))\n",
    "print(\"Accuracy of ensemble forest:\", round(ensemble_forest.score(x_test, y_test),3))\n",
    "print(\"Accuracy of ensemble boosted:\",round(ensemble_boost.score(x_test, y_test),3))"
   ]
  },
  {
   "cell_type": "code",
   "execution_count": 11,
   "metadata": {},
   "outputs": [
    {
     "data": {
      "text/plain": [
       "5    0.458004\n",
       "4    0.172670\n",
       "0    0.127043\n",
       "1    0.116282\n",
       "3    0.047407\n",
       "2    0.045241\n",
       "6    0.033354\n",
       "dtype: float64"
      ]
     },
     "execution_count": 11,
     "metadata": {},
     "output_type": "execute_result"
    }
   ],
   "source": [
    "# Checking which features (independent variables) were most important in determining survival looking at random forest feature_importances_ method:\n",
    "important_features = pd.Series(ensemble_forest.feature_importances_).sort_values(ascending=False)\n",
    "important_features"
   ]
  },
  {
   "attachments": {},
   "cell_type": "markdown",
   "metadata": {},
   "source": [
    "From the Random Forest model it looks like feature 5 (Sex) is the one that contributes the most to passenger survival, followed by 4 (Fare)."
   ]
  },
  {
   "attachments": {},
   "cell_type": "markdown",
   "metadata": {},
   "source": [
    "Of all models, looking at accuracy scores, Random Forest model performed the best at max_depth = 5. \n",
    "I will now assess the effect of other max_depths (from 2 to 10) on all three models: "
   ]
  },
  {
   "cell_type": "code",
   "execution_count": 12,
   "metadata": {},
   "outputs": [
    {
     "name": "stdout",
     "output_type": "stream",
     "text": [
      "Accuracies for models with max_depth = 2\n",
      "Base:\t 0.743\n",
      "Bagged:\t 0.746\n",
      "Forest:\t 0.776\n",
      "Boost:\t 0.735\n",
      "Accuracies for models with max_depth = 3\n",
      "Base:\t 0.765\n",
      "Bagged:\t 0.765\n",
      "Forest:\t 0.784\n",
      "Boost:\t 0.728\n",
      "Accuracies for models with max_depth = 4\n",
      "Base:\t 0.765\n",
      "Bagged:\t 0.769\n",
      "Forest:\t 0.787\n",
      "Boost:\t 0.776\n",
      "Accuracies for models with max_depth = 5\n",
      "Base:\t 0.772\n",
      "Bagged:\t 0.772\n",
      "Forest:\t 0.787\n",
      "Boost:\t 0.754\n",
      "Accuracies for models with max_depth = 6\n",
      "Base:\t 0.761\n",
      "Bagged:\t 0.784\n",
      "Forest:\t 0.78\n",
      "Boost:\t 0.757\n",
      "Accuracies for models with max_depth = 7\n",
      "Base:\t 0.769\n",
      "Bagged:\t 0.787\n",
      "Forest:\t 0.791\n",
      "Boost:\t 0.731\n",
      "Accuracies for models with max_depth = 8\n",
      "Base:\t 0.757\n",
      "Bagged:\t 0.784\n",
      "Forest:\t 0.787\n",
      "Boost:\t 0.769\n",
      "Accuracies for models with max_depth = 9\n",
      "Base:\t 0.743\n",
      "Bagged:\t 0.784\n",
      "Forest:\t 0.795\n",
      "Boost:\t 0.757\n",
      "Accuracies for models with max_depth = 10\n",
      "Base:\t 0.754\n",
      "Bagged:\t 0.776\n",
      "Forest:\t 0.795\n",
      "Boost:\t 0.739\n"
     ]
    }
   ],
   "source": [
    "for x in range(2,11):\n",
    "    max_depth = x\n",
    "    base = DecisionTreeClassifier(max_depth = max_depth, random_state=7).fit(x_train, y_train)\n",
    "    ensemble_bagging = BaggingClassifier(base_estimator=base, n_estimators=100, random_state=7).fit(x_train, y_train)\n",
    "    ensemble_forest = RandomForestClassifier(max_depth = max_depth, n_estimators=100, random_state=7).fit(x_train, y_train)\n",
    "    ensemble_boost = AdaBoostClassifier(base_estimator=base, n_estimators=100, random_state=7).fit(x_train, y_train)\n",
    "    print(\"Accuracies for models with max_depth =\", max_depth)\n",
    "    print(\"Base:\\t\", round(base.score(x_test, y_test),3))\n",
    "    print(\"Bagged:\\t\",round(ensemble_bagging.score(x_test, y_test),3))\n",
    "    print(\"Forest:\\t\", round(ensemble_forest.score(x_test, y_test),3))\n",
    "    print(\"Boost:\\t\",round(ensemble_boost.score(x_test, y_test),3))"
   ]
  },
  {
   "attachments": {},
   "cell_type": "markdown",
   "metadata": {},
   "source": [
    "For max_depths tested (2-10), and costant n_estimators (set to 100), and constant random_state (set to 7), highest accuracies for each models were for the following max_depths:\n",
    "- Base model = 5\n",
    "- Bagged model = 7\n",
    "- Forest model = 9, 10\n",
    "- Boosted model = 4\n",
    "It looks like changing max_depth affects each model's accuracy slightly differently. \n",
    "The highest accuracy accross the three models was for the Forest model 0.795 (for max_depth 9 and 10).\n",
    "Because of highest accuracy score in the max_depth analysis, I will use the Random Forest model for further analysis on the n_estimators."
   ]
  },
  {
   "cell_type": "code",
   "execution_count": 13,
   "metadata": {},
   "outputs": [
    {
     "name": "stdout",
     "output_type": "stream",
     "text": [
      "Accuracy of Random Forest at 1 estimations:\t 0.746\n",
      "Accuracy of Random Forest at 31 estimations:\t 0.802\n",
      "Accuracy of Random Forest at 61 estimations:\t 0.791\n",
      "Accuracy of Random Forest at 91 estimations:\t 0.787\n",
      "Accuracy of Random Forest at 121 estimations:\t 0.791\n",
      "Accuracy of Random Forest at 151 estimations:\t 0.795\n",
      "Accuracy of Random Forest at 181 estimations:\t 0.791\n",
      "Accuracy of Random Forest at 211 estimations:\t 0.799\n",
      "Accuracy of Random Forest at 241 estimations:\t 0.795\n"
     ]
    }
   ],
   "source": [
    "# Assessing n_estimators using Random Forest using max_depth = 9\n",
    "for x in range(1,250,30):\n",
    "    estimations = x\n",
    "    ensemble_forest = RandomForestClassifier(max_depth = 9, n_estimators=estimations, random_state=7).fit(x_train, y_train)\n",
    "    print(f\"Accuracy of Random Forest at {estimations} estimations:\\t\", round(ensemble_forest.score(x_test, y_test),3))"
   ]
  },
  {
   "attachments": {},
   "cell_type": "markdown",
   "metadata": {},
   "source": [
    "The highest accuracy of Random Forest model at max_depth=9, was at 31 n_estimators. "
   ]
  },
  {
   "cell_type": "code",
   "execution_count": 14,
   "metadata": {},
   "outputs": [
    {
     "name": "stdout",
     "output_type": "stream",
     "text": [
      "Accuracy of ensemble forest: 0.802\n"
     ]
    }
   ],
   "source": [
    "# Recalculating accuracy score for the Random Forest model at max_depth = 9 and n_estimators = 31:\n",
    "ensemble_forest = RandomForestClassifier(max_depth = 9, n_estimators=31, random_state=7)\n",
    "ensemble_forest.fit(x_train, y_train)\n",
    "print(\"Accuracy of ensemble forest:\", round(ensemble_forest.score(x_test, y_test),3))"
   ]
  },
  {
   "attachments": {},
   "cell_type": "markdown",
   "metadata": {},
   "source": [
    "Accuracies for all the models at max_depth = 5 are calculated at cell [37] . In case of the Forest Model, accuracy score increased (after optimising parameter settings) from 0.787 to 0.802 . Concluding, the best model to predict data selected by me in this task as x and y, is the Random Forest model with max_depth of 9 and 31 n_estimators and accuracy = 0.802. "
   ]
  }
 ],
 "metadata": {
  "kernelspec": {
   "display_name": "base",
   "language": "python",
   "name": "python3"
  },
  "language_info": {
   "codemirror_mode": {
    "name": "ipython",
    "version": 3
   },
   "file_extension": ".py",
   "mimetype": "text/x-python",
   "name": "python",
   "nbconvert_exporter": "python",
   "pygments_lexer": "ipython3",
   "version": "3.9.13"
  },
  "orig_nbformat": 4,
  "vscode": {
   "interpreter": {
    "hash": "b35ba4b709a2350bd2a9138495f0fac1b13ff7a023e4ca3e11d8d3ef473e8ae3"
   }
  }
 },
 "nbformat": 4,
 "nbformat_minor": 2
}
